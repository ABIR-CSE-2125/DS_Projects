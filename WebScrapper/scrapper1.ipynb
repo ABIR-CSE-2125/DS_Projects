{
 "cells": [
  {
   "cell_type": "markdown",
   "metadata": {},
   "source": [
    "!pip list --local\n"
   ]
  },
  {
   "cell_type": "code",
   "execution_count": null,
   "metadata": {},
   "outputs": [],
   "source": [
    "from bs4 import BeautifulSoup\n",
    "import requests\n",
    "import pandas as pd"
   ]
  },
  {
   "cell_type": "code",
   "execution_count": null,
   "metadata": {},
   "outputs": [],
   "source": [
    "url = 'https://www.amazon.in/s?i=shoes&rh=n%3A1983396031%2Cp_36%3A-69900%2Cp_72%3A1318477031%2Cp_28%3ASneaker&s=shoes&hidden-keywords=-slipper-kids-child-flat-heel-loafer-formal-uniform-polish-crease-sock-ballet-running-walking-sport-spray-shaper-wrinkle-slip-clog-protector-walking-Slip-on&_encoding=UTF8&content-id=amzn1.sym.f2126078-9d2c-4c23-9cf0-26c1a4ecbe94&pd_rd_r=affc9ddb-b56a-426f-bcc6-c1ad55ec505f&pd_rd_w=AFif4&pd_rd_wg=0Ei2g&pf_rd_p=f2126078-9d2c-4c23-9cf0-26c1a4ecbe94&pf_rd_r=5BCCSD4TQ2BFMBQCBWE9&ref=pd_hp_d_hero_unk'"
   ]
  },
  {
   "cell_type": "code",
   "execution_count": null,
   "metadata": {},
   "outputs": [],
   "source": [
    "HEADERS = {'User-Agent' : 'Mozilla/5.0 (Windows NT 10.0; Win64; x64) AppleWebKit/537.36 (KHTML, like Gecko) Chrome/110.0.0.0 Safari/537.36','Accept-Language' : 'en-US,en;q=0.5'}"
   ]
  },
  {
   "cell_type": "code",
   "execution_count": null,
   "metadata": {},
   "outputs": [],
   "source": [
    "webpage = requests.get(url,headers= HEADERS)"
   ]
  },
  {
   "cell_type": "code",
   "execution_count": null,
   "metadata": {},
   "outputs": [],
   "source": [
    "webpage # this is the webpage"
   ]
  },
  {
   "cell_type": "code",
   "execution_count": null,
   "metadata": {},
   "outputs": [],
   "source": [
    "webpage.content # BYTE formatted content"
   ]
  },
  {
   "cell_type": "code",
   "execution_count": null,
   "metadata": {},
   "outputs": [],
   "source": [
    "soup = BeautifulSoup(webpage.content,'html.parser')"
   ]
  },
  {
   "cell_type": "code",
   "execution_count": null,
   "metadata": {},
   "outputs": [],
   "source": [
    "soup # formatted html data"
   ]
  },
  {
   "cell_type": "markdown",
   "metadata": {},
   "source": [
    "class=\"a-link-normal s-underline-text s-underline-link-text s-link-style a-text-normal\"\n"
   ]
  },
  {
   "cell_type": "code",
   "execution_count": null,
   "metadata": {},
   "outputs": [],
   "source": [
    "links = soup.find_all('a',attrs={'class' : 'a-link-normal s-underline-text s-underline-link-text s-link-style a-text-normal'})"
   ]
  },
  {
   "cell_type": "code",
   "execution_count": null,
   "metadata": {},
   "outputs": [],
   "source": [
    "print(f'No. of links found : {len(links)}')"
   ]
  },
  {
   "cell_type": "markdown",
   "metadata": {},
   "source": [
    "No. of links found : 48\n"
   ]
  },
  {
   "cell_type": "code",
   "execution_count": 28,
   "metadata": {},
   "outputs": [
    {
     "data": {
      "text/plain": [
       "<a class=\"a-link-normal s-underline-text s-underline-link-text s-link-style a-text-normal\" href=\"/Sparx-Mens-SC0728G-Blackhoney-Casual/dp/B09N6VR16K/ref=sr_1_1?_encoding=UTF8&amp;content-id=amzn1.sym.f2126078-9d2c-4c23-9cf0-26c1a4ecbe94&amp;dib=eyJ2IjoiMSJ9.5VRm7L8DDdtZREWWJ3Ris6G2gsIs9t9DRqZNHL54HywtKCF8hSQLkRhnr5CahI8_Rvw3mEvv_vfYS2BsXX85-hL1rcIZSFXFl6Thc6fez1rPkiNUxPSQKZPmNrEKDpbv0uX105gpgdns-ZZkmYLp_mNCtksulGdx7CIt2oMFkTcYZzoBnl2JQZgEa5swL-9aylSXKnV1tUdqMhY54BSYOVpf-ioUcrwdCCa4RhFVS-ONzPw3-IFBxhaLkq9tGmPARFrEVAQbt9b0_HlSghOyIut-UUSLkvX7T9zzQ_fd2V4.DnGFtHndY4dlx5V6f0IKzjPyEj5ygANLkorWqZrWZac&amp;dib_tag=se&amp;pd_rd_r=affc9ddb-b56a-426f-bcc6-c1ad55ec505f&amp;pd_rd_w=AFif4&amp;pd_rd_wg=0Ei2g&amp;pf_rd_p=f2126078-9d2c-4c23-9cf0-26c1a4ecbe94&amp;pf_rd_r=5BCCSD4TQ2BFMBQCBWE9&amp;qid=1717221630&amp;refinements=p_36%3A-69900%2Cp_72%3A1318477031%2Cp_28%3ASneaker&amp;s=shoes&amp;sr=1-1\" target=\"_blank\"><span class=\"a-size-base-plus a-color-base a-text-normal\">Mens Sc0728gCasual Shoe</span> </a>"
      ]
     },
     "execution_count": 28,
     "metadata": {},
     "output_type": "execute_result"
    }
   ],
   "source": [
    "links[0].href"
   ]
  }
 ],
 "metadata": {
  "kernelspec": {
   "display_name": ".venv",
   "language": "python",
   "name": "python3"
  },
  "language_info": {
   "codemirror_mode": {
    "name": "ipython",
    "version": 3
   },
   "file_extension": ".py",
   "mimetype": "text/x-python",
   "name": "python",
   "nbconvert_exporter": "python",
   "pygments_lexer": "ipython3",
   "version": "3.11.4"
  }
 },
 "nbformat": 4,
 "nbformat_minor": 2
}
