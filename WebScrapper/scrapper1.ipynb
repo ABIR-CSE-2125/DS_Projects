{
 "cells": [
  {
   "cell_type": "code",
   "execution_count": 4,
   "metadata": {},
   "outputs": [
    {
     "name": "stdout",
     "output_type": "stream",
     "text": [
      "Package            Version\n",
      "------------------ -----------\n",
      "asttokens          2.4.1\n",
      "beautifulsoup4     4.12.3\n",
      "bs4                0.0.2\n",
      "certifi            2024.2.2\n",
      "charset-normalizer 3.3.2\n",
      "colorama           0.4.6\n",
      "comm               0.2.2\n",
      "contourpy          1.2.1\n",
      "cycler             0.12.1\n",
      "debugpy            1.8.1\n",
      "decorator          5.1.1\n",
      "executing          2.0.1\n",
      "fonttools          4.53.0\n",
      "idna               3.7\n",
      "ipykernel          6.29.4\n",
      "ipython            8.25.0\n",
      "jedi               0.19.1\n",
      "joblib             1.4.2\n",
      "jupyter_client     8.6.2\n",
      "jupyter_core       5.7.2\n",
      "kiwisolver         1.4.5\n",
      "matplotlib         3.9.0\n",
      "matplotlib-inline  0.1.7\n",
      "nest-asyncio       1.6.0\n",
      "numpy              1.26.4\n",
      "packaging          24.0\n",
      "pandas             2.2.2\n",
      "parso              0.8.4\n",
      "pillow             10.3.0\n",
      "pip                24.0\n",
      "platformdirs       4.2.2\n",
      "prompt_toolkit     3.0.45\n",
      "psutil             5.9.8\n",
      "pure-eval          0.2.2\n",
      "Pygments           2.18.0\n",
      "pyparsing          3.1.2\n",
      "python-dateutil    2.9.0.post0\n",
      "pytz               2024.1\n",
      "pywin32            306\n",
      "pyzmq              26.0.3\n",
      "requests           2.32.3\n",
      "scikit-learn       1.5.0\n",
      "scipy              1.13.1\n",
      "seaborn            0.13.2\n",
      "setuptools         65.5.0\n",
      "six                1.16.0\n",
      "soupsieve          2.5\n",
      "stack-data         0.6.3\n",
      "threadpoolctl      3.5.0\n",
      "tornado            6.4\n",
      "traitlets          5.14.3\n",
      "typing_extensions  4.12.0\n",
      "tzdata             2024.1\n",
      "urllib3            2.2.1\n",
      "wcwidth            0.2.13\n"
     ]
    }
   ],
   "source": [
    "!pip list --local"
   ]
  }
 ],
 "metadata": {
  "kernelspec": {
   "display_name": ".venv",
   "language": "python",
   "name": "python3"
  },
  "language_info": {
   "codemirror_mode": {
    "name": "ipython",
    "version": 3
   },
   "file_extension": ".py",
   "mimetype": "text/x-python",
   "name": "python",
   "nbconvert_exporter": "python",
   "pygments_lexer": "ipython3",
   "version": "3.11.4"
  }
 },
 "nbformat": 4,
 "nbformat_minor": 2
}
