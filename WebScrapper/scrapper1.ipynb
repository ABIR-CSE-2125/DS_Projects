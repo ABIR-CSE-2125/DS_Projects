{
 "cells": [
  {
   "cell_type": "markdown",
   "metadata": {},
   "source": [
    "!pip list --local\n"
   ]
  },
  {
   "cell_type": "code",
   "execution_count": null,
   "metadata": {},
   "outputs": [],
   "source": [
    "from bs4 import BeautifulSoup\n",
    "import requests\n",
    "import pandas as pd"
   ]
  },
  {
   "cell_type": "code",
   "execution_count": null,
   "metadata": {},
   "outputs": [],
   "source": [
    "url = 'https://www.amazon.in/s?i=shoes&rh=n%3A1983396031%2Cp_36%3A-69900%2Cp_72%3A1318477031%2Cp_28%3ASneaker&s=shoes&hidden-keywords=-slipper-kids-child-flat-heel-loafer-formal-uniform-polish-crease-sock-ballet-running-walking-sport-spray-shaper-wrinkle-slip-clog-protector-walking-Slip-on&_encoding=UTF8&content-id=amzn1.sym.f2126078-9d2c-4c23-9cf0-26c1a4ecbe94&pd_rd_r=affc9ddb-b56a-426f-bcc6-c1ad55ec505f&pd_rd_w=AFif4&pd_rd_wg=0Ei2g&pf_rd_p=f2126078-9d2c-4c23-9cf0-26c1a4ecbe94&pf_rd_r=5BCCSD4TQ2BFMBQCBWE9&ref=pd_hp_d_hero_unk'"
   ]
  },
  {
   "cell_type": "code",
   "execution_count": null,
   "metadata": {},
   "outputs": [],
   "source": [
    "HEADERS = {'User-Agent' : 'Mozilla/5.0 (Windows NT 10.0; Win64; x64) AppleWebKit/537.36 (KHTML, like Gecko) Chrome/110.0.0.0 Safari/537.36','Accept-Language' : 'en-US,en;q=0.5'}"
   ]
  },
  {
   "cell_type": "code",
   "execution_count": null,
   "metadata": {},
   "outputs": [],
   "source": [
    "webpage = requests.get(url,headers= HEADERS)"
   ]
  },
  {
   "cell_type": "code",
   "execution_count": null,
   "metadata": {},
   "outputs": [],
   "source": [
    "webpage # this is the webpage"
   ]
  },
  {
   "cell_type": "code",
   "execution_count": null,
   "metadata": {},
   "outputs": [],
   "source": [
    "webpage.content # BYTE formatted content"
   ]
  },
  {
   "cell_type": "code",
   "execution_count": null,
   "metadata": {},
   "outputs": [],
   "source": [
    "soup = BeautifulSoup(webpage.content,'html.parser')"
   ]
  },
  {
   "cell_type": "code",
   "execution_count": null,
   "metadata": {},
   "outputs": [],
   "source": [
    "soup # formatted html data"
   ]
  },
  {
   "cell_type": "markdown",
   "metadata": {},
   "source": [
    "class=\"a-link-normal s-underline-text s-underline-link-text s-link-style a-text-normal\"\n"
   ]
  },
  {
   "cell_type": "code",
   "execution_count": null,
   "metadata": {},
   "outputs": [],
   "source": [
    "links = soup.find_all('a',attrs={'class' : 'a-link-normal s-underline-text s-underline-link-text s-link-style a-text-normal'})"
   ]
  },
  {
   "cell_type": "code",
   "execution_count": null,
   "metadata": {},
   "outputs": [],
   "source": [
    "print(f'No. of links found : {len(links)}')"
   ]
  },
  {
   "cell_type": "markdown",
   "metadata": {},
   "source": [
    "No. of links found : 48\n"
   ]
  },
  {
   "cell_type": "code",
   "execution_count": null,
   "metadata": {},
   "outputs": [],
   "source": [
    "product_link = \"https://www.amazon.in\" + links[0].get('href')"
   ]
  },
  {
   "cell_type": "code",
   "execution_count": null,
   "metadata": {},
   "outputs": [],
   "source": [
    "product_link # Complete link of the product "
   ]
  },
  {
   "cell_type": "markdown",
   "metadata": {},
   "source": [
    "'https://www.amazon.in/Campus-OG-D4-White-Black-Sneakers/dp/B0CGM2FSJN/ref=sr_1_1?_encoding=UTF8&content-id=amzn1.sym.f2126078-9d2c-4c23-9cf0-26c1a4ecbe94&dib=eyJ2IjoiMSJ9.0ThmUOVzLhy7OJn5C8JDM3i4L9b1pp027Hk3Nma3WaLzOSqH5bXuiIDMPoZ9koMznO8L5e-xq2AvpgblgnAoTRL1rcIZSFXFl6Thc6fez1rHcoaGCNqiJjnxbMFwAv0qn35n6e9k7T5dIPHIk5Vvqug6pO8zXdkjJgQZyu4PGWDqWFr-IUhGvpEGbw-2ANW2ICEac4K5inYMcFL3e8QlNip3n07jLiyOJGRfJIM3QZjDokNlkeoP3C7wj4PL7QDJg-j6Fc1yqma5pY93zlYZC4zZQCXg9HajjIsWiOZ5bFc.3QwUDDq-4_ydUj57GyrkK_C6ZdILoA5Crr78NBycMiI&dib_tag=se&pd_rd_r=affc9ddb-b56a-426f-bcc6-c1ad55ec505f&pd_rd_w=AFif4&pd_rd_wg=0Ei2g&pf_rd_p=f2126078-9d2c-4c23-9cf0-26c1a4ecbe94&pf_rd_r=5BCCSD4TQ2BFMBQCBWE9&qid=1717224458&refinements=p_36%3A-69900%2Cp_72%3A1318477031%2Cp_28%3ASneaker&s=shoes&sr=1-1'\n"
   ]
  },
  {
   "cell_type": "code",
   "execution_count": null,
   "metadata": {},
   "outputs": [],
   "source": [
    "product_webpage = requests.get(product_link,HEADERS)\n",
    "product_webpage"
   ]
  },
  {
   "cell_type": "code",
   "execution_count": null,
   "metadata": {},
   "outputs": [],
   "source": [
    "product_html = BeautifulSoup(product_webpage.content,'html.parser')\n",
    "product_html"
   ]
  },
  {
   "cell_type": "markdown",
   "metadata": {},
   "source": [
    "Extracting the title\n"
   ]
  },
  {
   "cell_type": "code",
   "execution_count": null,
   "metadata": {},
   "outputs": [],
   "source": [
    "#title id=\"productTitle\"\n",
    "product_title = product_html.find('span' ,attrs = {\"id\" : \"productTitle\"})"
   ]
  },
  {
   "cell_type": "code",
   "execution_count": 29,
   "metadata": {},
   "outputs": [
    {
     "data": {
      "text/plain": [
       "'Campus OG-D4 White Sneakers for Men | Trendy Casual Sneaker Shoes from Water-Resistant Upper | Super-Soft Insole | Secure and Supportive Lace-Up Closure'"
      ]
     },
     "execution_count": 29,
     "metadata": {},
     "output_type": "execute_result"
    }
   ],
   "source": [
    "product_title = product_title.text.strip()\n",
    "product_title"
   ]
  },
  {
   "cell_type": "markdown",
   "metadata": {},
   "source": [
    "Extracting Price\n"
   ]
  },
  {
   "cell_type": "code",
   "execution_count": 35,
   "metadata": {},
   "outputs": [],
   "source": [
    "price_symbol_map = {\n",
    "    '₹' : 'INR',\n",
    "}"
   ]
  },
  {
   "cell_type": "code",
   "execution_count": 33,
   "metadata": {},
   "outputs": [],
   "source": [
    "currency = product_html.find('span',attrs= {'class' : 'a-price-symbol'}).text\n",
    "value = product_html.find('span',attrs= {'class' : 'a-price-whole'}).text"
   ]
  },
  {
   "cell_type": "code",
   "execution_count": 34,
   "metadata": {},
   "outputs": [
    {
     "name": "stdout",
     "output_type": "stream",
     "text": [
      "₹ -- 699\n"
     ]
    }
   ],
   "source": [
    "print(f'{currency} -- {value}')"
   ]
  }
 ],
 "metadata": {
  "kernelspec": {
   "display_name": ".venv",
   "language": "python",
   "name": "python3"
  },
  "language_info": {
   "codemirror_mode": {
    "name": "ipython",
    "version": 3
   },
   "file_extension": ".py",
   "mimetype": "text/x-python",
   "name": "python",
   "nbconvert_exporter": "python",
   "pygments_lexer": "ipython3",
   "version": "3.11.4"
  }
 },
 "nbformat": 4,
 "nbformat_minor": 2
}
